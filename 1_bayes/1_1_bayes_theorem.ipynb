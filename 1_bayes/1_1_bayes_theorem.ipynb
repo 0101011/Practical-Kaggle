{
 "cells": [
  {
   "cell_type": "markdown",
   "metadata": {},
   "source": [
    "# Bayes Theorem With Python\n",
    "\n",
    "Here's a thorough hand-on look into Bayes Theorem using Python. In this notebook we'll use Numpy and Scipy for operations, and Matplotlib and Seaborn to plot results.\n",
    "\n",
    "Without further ado, let's get out hands dirty, shall we?"
   ]
  },
  {
   "cell_type": "markdown",
   "metadata": {},
   "source": [
    "## Definition made easy\n",
    "\n",
    "*Bayes theorem* is what allows us to go from a sampling (likelihood) distribution and a prior distribution to posterior distribution."
   ]
  },
  {
   "cell_type": "markdown",
   "metadata": {},
   "source": [
    "## Distribution\n",
    "\n",
    "*Sampling distribution* is the probability of seeing our data (X) given our parameters ($\\theta$):\n",
    "\n",
    "$p(X|\\theta)$\n",
    "\n",
    "Let's say we've got some data on 1,000 coin flips.\n",
    "1 will indicate heads."
   ]
  },
  {
   "cell_type": "code",
   "execution_count": 7,
   "metadata": {},
   "outputs": [
    {
     "data": {
      "text/plain": [
       "0.509"
      ]
     },
     "execution_count": 7,
     "metadata": {},
     "output_type": "execute_result"
    }
   ],
   "source": [
    "import numpy as np\n",
    "coin_flips = np.random.randint(2, size=1000)\n",
    "np.mean(coin_flips)"
   ]
  },
  {
   "cell_type": "markdown",
   "metadata": {},
   "source": [
    "Sampling distribution allows us to specify how we think our data was generated.\n",
    "\n",
    "For the coin flips in our case, we think of the data as being generated from a Bernoulli distribution:\n",
    "\n",
    "1. Takes 1 parameter *p* (probability) of getting a `1` (head)\n",
    "2. Returns a value of 1 with p and a value with p (1-p)\n",
    "\n",
    "This example is perfect for a coin flip (`p=.5`)\n",
    "\n",
    "Using Bernoulli distribution we can create sample like this:"
   ]
  },
  {
   "cell_type": "code",
   "execution_count": 9,
   "metadata": {},
   "outputs": [
    {
     "data": {
      "text/plain": [
       "0.504"
      ]
     },
     "execution_count": 9,
     "metadata": {},
     "output_type": "execute_result"
    }
   ],
   "source": [
    "bern_flips = np.random.binomial(n=1, p=.5, size=1000)\n",
    "np.mean(bern_flips)"
   ]
  },
  {
   "cell_type": "code",
   "execution_count": null,
   "metadata": {},
   "outputs": [],
   "source": []
  }
 ],
 "metadata": {
  "kernelspec": {
   "display_name": "Python 3",
   "language": "python",
   "name": "python3"
  },
  "language_info": {
   "codemirror_mode": {
    "name": "ipython",
    "version": 3
   },
   "file_extension": ".py",
   "mimetype": "text/x-python",
   "name": "python",
   "nbconvert_exporter": "python",
   "pygments_lexer": "ipython3",
   "version": "3.6.8"
  }
 },
 "nbformat": 4,
 "nbformat_minor": 2
}
